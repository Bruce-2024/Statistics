{
 "cells": [
  {
   "cell_type": "markdown",
   "metadata": {},
   "source": [
    "### 1. t检验\n"
   ]
  },
  {
   "cell_type": "markdown",
   "metadata": {},
   "source": [
    "\n",
    "#### 1.1 单样本t检验"
   ]
  },
  {
   "cell_type": "code",
   "execution_count": 8,
   "metadata": {},
   "outputs": [
    {
     "name": "stdout",
     "output_type": "stream",
     "text": [
      "t-statistic: 0.0\n",
      "p-value: 1.0\n",
      "There is no significant difference between the sample mean and the population mean.\n"
     ]
    }
   ],
   "source": [
    "from scipy import stats\n",
    "import numpy as np\n",
    "\n",
    "# 准备数据\n",
    "sample = np.array([1, 2, 3, 4, 5])  # 样本数据\n",
    "popmean = 3  # 假设的总体均值\n",
    "\n",
    "# 执行单样本t检验\n",
    "t_stat, p_value = stats.ttest_1samp(sample, popmean)\n",
    "\n",
    "# 输出结果\n",
    "print(\"t-statistic:\", t_stat)\n",
    "print(\"p-value:\", p_value)\n",
    "\n",
    "# 根据p值判断结果\n",
    "if p_value < 0.05:\n",
    "    print(\"The sample mean is significantly different from the population mean.\")\n",
    "else:\n",
    "    print(\"There is no significant difference between the sample mean and the population mean.\")"
   ]
  },
  {
   "cell_type": "markdown",
   "metadata": {},
   "source": [
    "#### 1.2 两个独立样本T检验"
   ]
  },
  {
   "cell_type": "code",
   "execution_count": null,
   "metadata": {},
   "outputs": [],
   "source": [
    "from scipy import stats\n",
    "import numpy as np\n",
    "\n",
    "# 准备数据\n",
    "sample1 = np.array([1, 2, 3, 4, 5])\n",
    "sample2 = np.array([2, 3, 4, 5, 6])\n",
    "\n",
    "# 执行t检验\n",
    "t_stat, p_value = stats.ttest_ind(sample1, sample2)\n",
    "\n",
    "# 输出结果\n",
    "print(\"t-statistic:\", t_stat)\n",
    "print(\"p-value:\", p_value)\n",
    "\n",
    "# 根据p值判断结果\n",
    "if p_value < 0.05:\n",
    "    print(\"There is a significant difference between the two samples.\")\n",
    "else:\n",
    "    print(\"There is no significant difference between the two samples.\")"
   ]
  },
  {
   "cell_type": "markdown",
   "metadata": {},
   "source": [
    "####  1.3 配对样本T检验"
   ]
  },
  {
   "cell_type": "code",
   "execution_count": 9,
   "metadata": {},
   "outputs": [
    {
     "name": "stdout",
     "output_type": "stream",
     "text": [
      "t-statistic: -1.4999999999999971\n",
      "p-value: 0.20800000000000057\n",
      "There is no significant difference between the two related samples.\n"
     ]
    }
   ],
   "source": [
    "from scipy import stats\n",
    "import numpy as np\n",
    "\n",
    "# 准备数据\n",
    "sample1 = np.array([1, 2, 3, 4, 5])  # 第一次测量的结果\n",
    "sample2 = np.array([1.1, 2.1, 2.9, 4.1, 5.1])  # 第二次测量的结果\n",
    "\n",
    "# 执行配对样本t检验\n",
    "t_stat, p_value = stats.ttest_rel(sample1, sample2)\n",
    "\n",
    "# 输出结果\n",
    "print(\"t-statistic:\", t_stat)\n",
    "print(\"p-value:\", p_value)\n",
    "\n",
    "# 根据p值判断结果\n",
    "if p_value < 0.05:\n",
    "    print(\"There is a significant difference between the two related samples.\")\n",
    "else:\n",
    "    print(\"There is no significant difference between the two related samples.\")"
   ]
  },
  {
   "cell_type": "markdown",
   "metadata": {},
   "source": [
    "### 2.方差分析"
   ]
  },
  {
   "cell_type": "markdown",
   "metadata": {},
   "source": [
    "#### 2.1 单因素方差分析"
   ]
  },
  {
   "cell_type": "code",
   "execution_count": 10,
   "metadata": {},
   "outputs": [
    {
     "name": "stdout",
     "output_type": "stream",
     "text": [
      "              sum_sq    df          F    PR(>F)\n",
      "group     428.133333   2.0  36.908046  0.000007\n",
      "Residual   69.600000  12.0        NaN       NaN\n"
     ]
    }
   ],
   "source": [
    "import pandas as pd\n",
    "from statsmodels.formula.api import ols\n",
    "from statsmodels.stats.anova import anova_lm\n",
    "\n",
    "# 假设我们有三组样本数据\n",
    "data = {\n",
    "    'group': ['group1']*5 + ['group2']*5 + ['group3']*5,\n",
    "    'value': [85, 90, 88, 92, 87] + [78, 82, 84, 79, 80] + [92, 94, 96, 91, 95]\n",
    "}\n",
    "df = pd.DataFrame(data)\n",
    "\n",
    "# 使用ols函数建立模型\n",
    "model = ols('value ~ group', data=df).fit()\n",
    "\n",
    "# 执行方差分析\n",
    "anova_results = anova_lm(model, typ=2)\n",
    "\n",
    "# 输出结果\n",
    "print(anova_results)"
   ]
  },
  {
   "cell_type": "markdown",
   "metadata": {},
   "source": [
    "### 3.卡方检验"
   ]
  },
  {
   "cell_type": "code",
   "execution_count": 12,
   "metadata": {},
   "outputs": [
    {
     "name": "stdout",
     "output_type": "stream",
     "text": [
      "Chi-squared: 5.01\n",
      "P-value: 0.0251\n",
      "Degrees of freedom: 1\n",
      "Expected frequencies:\n",
      "                       Variable 2 - Positive  Variable 2 - Negative\n",
      "Variable 1 - Positive                   90.0                   60.0\n",
      "Variable 1 - Negative                   90.0                   60.0\n"
     ]
    }
   ],
   "source": [
    "from scipy.stats import chi2_contingency\n",
    "import pandas as pd\n",
    "\n",
    "# 假设我们有一个2x2的列联表，表示两个分类变量的频数\n",
    "# 例如，观察值是两个变量的频数矩阵\n",
    "# 变量1   | 变量2\n",
    "# 正例    | 反例\n",
    "# -------------------\n",
    "# 100     | 50\n",
    "# 80      | 70\n",
    "\n",
    "# 创建一个2x2的列联表\n",
    "observed = [[100, 50], [80, 70]]\n",
    "\n",
    "# 进行卡方检验\n",
    "chi2, p, dof, expected = chi2_contingency(observed)\n",
    "\n",
    "# 输出结果\n",
    "print(f\"Chi-squared: {chi2:.2f}\")\n",
    "print(f\"P-value: {p:.4f}\")\n",
    "print(f\"Degrees of freedom: {dof}\")\n",
    "print(\"Expected frequencies:\")\n",
    "print(pd.DataFrame(expected, columns=['Variable 2 - Positive', 'Variable 2 - Negative'],\n",
    "                  index=['Variable 1 - Positive', 'Variable 1 - Negative']))"
   ]
  },
  {
   "cell_type": "markdown",
   "metadata": {},
   "source": [
    "### 4 相关分析"
   ]
  },
  {
   "cell_type": "markdown",
   "metadata": {},
   "source": [
    "#### 4.1 Pearson相关"
   ]
  },
  {
   "cell_type": "markdown",
   "metadata": {},
   "source": [
    "##### 使用 Pandas"
   ]
  },
  {
   "cell_type": "code",
   "execution_count": 19,
   "metadata": {},
   "outputs": [
    {
     "name": "stdout",
     "output_type": "stream",
     "text": [
      "Pearson correlation coefficient: -0.9999999999999999\n"
     ]
    }
   ],
   "source": [
    "import pandas as pd\n",
    "\n",
    "# 假设我们有两个变量的数据\n",
    "data = {\n",
    "    'Variable1': [1, 2, 3, 4, 5],\n",
    "    'Variable2': [5, 4, 3, 2, 1]\n",
    "}\n",
    "\n",
    "# 将数据转换为DataFrame\n",
    "df = pd.DataFrame(data)\n",
    "\n",
    "# 计算皮尔逊相关系数\n",
    "correlation = df['Variable1'].corr(df['Variable2'], method='pearson')\n",
    "\n",
    "print(f\"Pearson correlation coefficient: {correlation}\")"
   ]
  },
  {
   "cell_type": "markdown",
   "metadata": {},
   "source": [
    "##### 使用 Scipy"
   ]
  },
  {
   "cell_type": "code",
   "execution_count": 20,
   "metadata": {},
   "outputs": [
    {
     "name": "stdout",
     "output_type": "stream",
     "text": [
      "Pearson correlation coefficient: -1.0\n",
      "P-value: 0.0\n"
     ]
    }
   ],
   "source": [
    "from scipy.stats import pearsonr\n",
    "\n",
    "# 假设我们有两个变量的数据\n",
    "variable1 = [1, 2, 3, 4, 5]\n",
    "variable2 = [5, 4, 3, 2, 1]\n",
    "\n",
    "# 计算皮尔逊相关系数和p值\n",
    "correlation, p_value = pearsonr(variable1, variable2)\n",
    "\n",
    "print(f\"Pearson correlation coefficient: {correlation}\")\n",
    "print(f\"P-value: {p_value}\")"
   ]
  },
  {
   "cell_type": "markdown",
   "metadata": {},
   "source": [
    "#### 4.2   偏相关分析"
   ]
  },
  {
   "cell_type": "code",
   "execution_count": 22,
   "metadata": {},
   "outputs": [
    {
     "name": "stdout",
     "output_type": "stream",
     "text": [
      "          n         r          CI95%     p-val\n",
      "pearson  10  0.190626  [-0.54, 0.76]  0.623228\n"
     ]
    }
   ],
   "source": [
    "import pandas as pd\n",
    "import pingouin as pg\n",
    "\n",
    "# 创建一个示例数据集\n",
    "data = pd.DataFrame({\n",
    "    'currentGrade': [82, 88, 75, 74, 93, 97, 83, 90, 90, 80],\n",
    "    'hours': [4, 3, 6, 5, 4, 5, 8, 7, 4, 6],\n",
    "    'examScore': [88, 85, 76, 70, 92, 94, 89, 85, 90, 93],\n",
    "})\n",
    "\n",
    "# 计算偏相关系数，控制'currentGrade'的影响\n",
    "partial_corr_result = pg.partial_corr(data=data, x='hours', y='examScore', covar='currentGrade')\n",
    "\n",
    "# 输出结果\n",
    "print(partial_corr_result)"
   ]
  },
  {
   "cell_type": "markdown",
   "metadata": {},
   "source": [
    "### 5.线性回归"
   ]
  },
  {
   "cell_type": "code",
   "execution_count": 28,
   "metadata": {},
   "outputs": [
    {
     "data": {
      "image/png": "[encoded data removed]",
      "text/plain": [
       "<Figure size 640x480 with 1 Axes>"
      ]
     },
     "metadata": {},
     "output_type": "display_data"
    },
    {
     "name": "stdout",
     "output_type": "stream",
     "text": [
      "Intercept: 4.222151077447232\n",
      "Coefficient: 2.968467510701018\n",
      "Mean Squared Error: 0.9924386487246482\n",
      "R^2 Score: 0.7469629925504755\n"
     ]
    }
   ],
   "source": [
    "# 导入必要的库\n",
    "import numpy as np\n",
    "import pandas as pd\n",
    "from sklearn.linear_model import LinearRegression\n",
    "import matplotlib.pyplot as plt\n",
    "\n",
    "# 生成合成数据\n",
    "np.random.seed(0)  # 为了结果的可重复性\n",
    "X = 2 * np.random.rand(100, 1)  # 100个样本点，每个样本1个特征\n",
    "y = 4 + 3 * X + np.random.randn(100, 1)  # 线性关系 y = 4 + 3x + 噪声\n",
    "\n",
    "# 将数据转换为DataFrame\n",
    "df = pd.DataFrame(X, columns=['Feature'])\n",
    "df['Target'] = y\n",
    "\n",
    "# 创建线性回归模型实例\n",
    "model = LinearRegression()\n",
    "\n",
    "# 准备特征矩阵X和目标变量Y\n",
    "X = df[['Feature']]  # 特征矩阵需要是二维的\n",
    "Y = df['Target']   # 目标变量可以是一维的\n",
    "\n",
    "# 拟合模型\n",
    "model.fit(X, Y)\n",
    "\n",
    "# 进行预测\n",
    "Y_pred = model.predict(X)\n",
    "\n",
    "# 可视化结果\n",
    "plt.scatter(X, Y, color='blue', label='Actual data')  # 绘制实际数据点\n",
    "plt.plot(X, Y_pred, color='red', label='Regression line')  # 绘制回归线\n",
    "plt.title('Linear Regression')\n",
    "plt.xlabel('Feature')\n",
    "plt.ylabel('Target')\n",
    "plt.legend()\n",
    "plt.show()\n",
    "\n",
    "# 查看模型参数\n",
    "print(f\"Intercept: {model.intercept_}\")\n",
    "print(f\"Coefficient: {model.coef_[0]}\")\n",
    "\n",
    "# 评估模型性能\n",
    "from sklearn.metrics import mean_squared_error, r2_score\n",
    "\n",
    "# 计算均方误差和R^2分数\n",
    "mse = mean_squared_error(Y, Y_pred)\n",
    "r2 = r2_score(Y, Y_pred)\n",
    "\n",
    "print(f\"Mean Squared Error: {mse}\")\n",
    "print(f\"R^2 Score: {r2}\")"
   ]
  },
  {
   "cell_type": "markdown",
   "metadata": {},
   "source": [
    "### 6. 逻辑回归"
   ]
  },
  {
   "cell_type": "code",
   "execution_count": null,
   "metadata": {},
   "outputs": [
    {
     "name": "stdout",
     "output_type": "stream",
     "text": [
      "Data:\n",
      "   Feature1  Feature2  Target\n",
      "0         1         1       0\n",
      "1         2         2       0\n",
      "2         2         3       0\n",
      "3         3         4       0\n",
      "4         4         2       1\n",
      "5         5         5       1\n",
      "6         5         6       1\n",
      "7         6         7       1\n",
      "8         7         8       1\n",
      "Accuracy: 1.0\n",
      "Confusion Matrix:\n",
      "[[1 0]\n",
      " [0 1]]\n",
      "Classification Report:\n",
      "              precision    recall  f1-score   support\n",
      "\n",
      "           0       1.00      1.00      1.00         1\n",
      "           1       1.00      1.00      1.00         1\n",
      "\n",
      "    accuracy                           1.00         2\n",
      "   macro avg       1.00      1.00      1.00         2\n",
      "weighted avg       1.00      1.00      1.00         2\n",
      "\n"
     ]
    },
    {
     "name": "stderr",
     "output_type": "stream",
     "text": [
      "u:\\Users\\Enlink\\miniconda3\\envs\\myenv\\Lib\\site-packages\\sklearn\\base.py:493: UserWarning: X does not have valid feature names, but LogisticRegression was fitted with feature names\n",
      "  warnings.warn(\n"
     ]
    },
    {
     "data": {
      "image/png": "[encoded data removed]",
      "text/plain": [
       "<Figure size 640x480 with 1 Axes>"
      ]
     },
     "metadata": {},
     "output_type": "display_data"
    }
   ],
   "source": [
    "\n",
    "# 导入必要的库\n",
    "import numpy as np\n",
    "import pandas as pd\n",
    "from sklearn.linear_model import LogisticRegression\n",
    "from sklearn.model_selection import train_test_split\n",
    "from sklearn.metrics import accuracy_score, confusion_matrix, classification_report\n",
    "import matplotlib.pyplot as plt\n",
    "\n",
    "# 创建数据\n",
    "data = {\n",
    "    'Feature1': [1, 2, 2, 3, 4, 5, 5, 6, 7],\n",
    "    'Feature2': [1, 2, 3, 4, 2, 5, 6, 7, 8],\n",
    "    'Target': [0, 0, 0, 0, 1, 1, 1, 1, 1]\n",
    "}\n",
    "\n",
    "# 将数据转换为DataFrame\n",
    "df = pd.DataFrame(data)\n",
    "\n",
    "# 查看数据\n",
    "print(\"Data:\")\n",
    "print(df)\n",
    "\n",
    "# 准备特征矩阵X和目标变量Y\n",
    "X = df[['Feature1', 'Feature2']]  # 特征矩阵需要是二维的\n",
    "Y = df['Target']  # 目标变量可以是一维的\n",
    "\n",
    "# 划分训练集和测试集\n",
    "X_train, X_test, Y_train, Y_test = train_test_split(X, Y, test_size=0.2, random_state=42)\n",
    "\n",
    "# 创建逻辑回归模型实例\n",
    "model = LogisticRegression()\n",
    "\n",
    "# 拟合模型\n",
    "model.fit(X_train, Y_train)\n",
    "\n",
    "# 进行预测\n",
    "Y_pred = model.predict(X_test)\n",
    "\n",
    "# 计算准确率\n",
    "accuracy = accuracy_score(Y_test, Y_pred)\n",
    "print(f\"Accuracy: {accuracy}\")\n",
    "\n",
    "# 打印混淆矩阵\n",
    "conf_matrix = confusion_matrix(Y_test, Y_pred)\n",
    "print(\"Confusion Matrix:\")\n",
    "print(conf_matrix)\n",
    "\n",
    "# 打印分类报告\n",
    "class_report = classification_report(Y_test, Y_pred)\n",
    "print(\"Classification Report:\")\n",
    "print(class_report)\n",
    "\n",
    "# 可视化决策边界（仅适用于2D特征）\n",
    "if X.shape[1] == 2:\n",
    "    x_min, x_max = X['Feature1'].min() - 1, X['Feature1'].max() + 1\n",
    "    y_min, y_max = X['Feature2'].min() - 1, X['Feature2'].max() + 1\n",
    "    xx, yy = np.meshgrid(np.arange(x_min, x_max, 0.1), np.arange(y_min, y_max, 0.1))\n",
    "\n",
    "    Z = model.predict(np.c_[xx.ravel(), yy.ravel()])\n",
    "    Z = Z.reshape(xx.shape)\n",
    "\n",
    "    plt.contourf(xx, yy, Z, alpha=0.8)\n",
    "    plt.scatter(X['Feature1'], X['Feature2'], c=Y, edgecolors='k', s=20)\n",
    "    plt.xlabel('Feature1')\n",
    "    plt.ylabel('Feature2')\n",
    "    plt.title('Logistic Regression Decision Boundary')\n",
    "    plt.show()"
   ]
  },
  {
   "cell_type": "markdown",
   "metadata": {},
   "source": [
    "### 7. 生存分析 "
   ]
  },
  {
   "cell_type": "code",
   "execution_count": 29,
   "metadata": {},
   "outputs": [
    {
     "name": "stdout",
     "output_type": "stream",
     "text": [
      "Median survival time: 40.0, with 95% confidence interval:      KM_estimate_lower_0.95  KM_estimate_upper_0.95\n",
      "0.5                     5.0                    50.0\n",
      "Log-rank test results:\n",
      "<lifelines.StatisticalResult: logrank_test>\n",
      "               t_0 = -1\n",
      " null_distribution = chi squared\n",
      "degrees_of_freedom = 1\n",
      "         test_name = logrank_test\n",
      "\n",
      "---\n",
      " test_statistic    p  -log2(p)\n",
      "           4.91 0.03      5.23\n"
     ]
    },
    {
     "data": {
      "image/png": "[encoded data removed]",
      "text/plain": [
       "<Figure size 640x480 with 1 Axes>"
      ]
     },
     "metadata": {},
     "output_type": "display_data"
    }
   ],
   "source": [
    "# 导入必要的库\n",
    "import pandas as pd\n",
    "from lifelines import KaplanMeierFitter\n",
    "from lifelines.statistics import logrank_test\n",
    "from lifelines.utils import median_survival_times\n",
    "\n",
    "# 创建示例数据\n",
    "data = {\n",
    "    'PatientID': range(1, 11),\n",
    "    'Time': [5, 10, 15, 20, 25, 30, 35, 40, 45, 50],  # 生存时间\n",
    "    'Event': [1, 0, 1, 1, 0, 1, 0, 1, 0, 1]  # 事件是否发生（1为发生，0为删失）\n",
    "}\n",
    "\n",
    "# 将数据转换为DataFrame\n",
    "df = pd.DataFrame(data)\n",
    "\n",
    "# 初始化Kaplan-Meier生存函数估计器\n",
    "kmf = KaplanMeierFitter()\n",
    "\n",
    "# 使用数据进行生存分析\n",
    "kmf.fit(df['Time'], event_observed=df['Event'])\n",
    "\n",
    "# 绘制生存曲线\n",
    "kmf.plot_survival_function()\n",
    "median_ = kmf.median_survival_time_\n",
    "median_confidence_interval_ = median_survival_times(kmf.confidence_interval_)\n",
    "print(f\"Median survival time: {median_}, with 95% confidence interval: {median_confidence_interval_}\")\n",
    "\n",
    "# 执行Log-rank检验\n",
    "# 假设我们有两个组，这里我们简单地将数据分为两组进行演示\n",
    "group_1 = df[:5]\n",
    "group_2 = df[5:]\n",
    "\n",
    "# 拟合两个组的生存曲线\n",
    "kmf_1 = KaplanMeierFitter().fit(group_1['Time'], event_observed=group_1['Event'])\n",
    "kmf_2 = KaplanMeierFitter().fit(group_2['Time'], event_observed=group_2['Event'])\n",
    "\n",
    "# 执行Log-rank检验\n",
    "results = logrank_test(group_1['Time'], group_2['Time'], event_observed_A=group_1['Event'], event_observed_B=group_2['Event'])\n",
    "print(\"Log-rank test results:\")\n",
    "print(results)\n",
    "\n",
    "# 显示图表"
   ]
  },
  {
   "cell_type": "markdown",
   "metadata": {},
   "source": []
  },
  {
   "cell_type": "markdown",
   "metadata": {},
   "source": [
    "### 8.主成因分析 "
   ]
  },
  {
   "cell_type": "markdown",
   "metadata": {},
   "source": [
    "#### 8.1 主成因分析"
   ]
  },
  {
   "cell_type": "code",
   "execution_count": 30,
   "metadata": {},
   "outputs": [
    {
     "name": "stdout",
     "output_type": "stream",
     "text": [
      "降维后的数据:\n",
      "[[-2.26470281  0.4800266 ]\n",
      " [-2.08096115 -0.67413356]\n",
      " [-2.36422905 -0.34190802]\n",
      " [-2.29938422 -0.59739451]\n",
      " [-2.38984217  0.64683538]\n",
      " [-2.07563095  1.48917752]\n",
      " [-2.44402884  0.0476442 ]\n",
      " [-2.23284716  0.22314807]\n",
      " [-2.33464048 -1.11532768]\n",
      " [-2.18432817 -0.46901356]\n",
      " [-2.1663101   1.04369065]\n",
      " [-2.32613087  0.13307834]\n",
      " [-2.2184509  -0.72867617]\n",
      " [-2.6331007  -0.96150673]\n",
      " [-2.1987406   1.86005711]\n",
      " [-2.26221453  2.68628449]\n",
      " [-2.2075877   1.48360936]\n",
      " [-2.19034951  0.48883832]\n",
      " [-1.898572    1.40501879]\n",
      " [-2.34336905  1.12784938]\n",
      " [-1.914323    0.40885571]\n",
      " [-2.20701284  0.92412143]\n",
      " [-2.7743447   0.45834367]\n",
      " [-1.81866953  0.08555853]\n",
      " [-2.22716331  0.13725446]\n",
      " [-1.95184633 -0.62561859]\n",
      " [-2.05115137  0.24216355]\n",
      " [-2.16857717  0.52714953]\n",
      " [-2.13956345  0.31321781]\n",
      " [-2.26526149 -0.3377319 ]\n",
      " [-2.14012214 -0.50454069]\n",
      " [-1.83159477  0.42369507]\n",
      " [-2.61494794  1.79357586]\n",
      " [-2.44617739  2.15072788]\n",
      " [-2.10997488 -0.46020184]\n",
      " [-2.2078089  -0.2061074 ]\n",
      " [-2.04514621  0.66155811]\n",
      " [-2.52733191  0.59229277]\n",
      " [-2.42963258 -0.90418004]\n",
      " [-2.16971071  0.26887896]\n",
      " [-2.28647514  0.44171539]\n",
      " [-1.85812246 -2.33741516]\n",
      " [-2.5536384  -0.47910069]\n",
      " [-1.96444768  0.47232667]\n",
      " [-2.13705901  1.14222926]\n",
      " [-2.0697443  -0.71105273]\n",
      " [-2.38473317  1.1204297 ]\n",
      " [-2.39437631 -0.38624687]\n",
      " [-2.22944655  0.99795976]\n",
      " [-2.20383344  0.00921636]\n",
      " [ 1.10178118  0.86297242]\n",
      " [ 0.73133743  0.59461473]\n",
      " [ 1.24097932  0.61629765]\n",
      " [ 0.40748306 -1.75440399]\n",
      " [ 1.0754747  -0.20842105]\n",
      " [ 0.38868734 -0.59328364]\n",
      " [ 0.74652974  0.77301931]\n",
      " [-0.48732274 -1.85242909]\n",
      " [ 0.92790164  0.03222608]\n",
      " [ 0.01142619 -1.03401828]\n",
      " [-0.11019628 -2.65407282]\n",
      " [ 0.44069345 -0.06329519]\n",
      " [ 0.56210831 -1.76472438]\n",
      " [ 0.71956189 -0.18622461]\n",
      " [-0.0333547  -0.43900321]\n",
      " [ 0.87540719  0.50906396]\n",
      " [ 0.35025167 -0.19631173]\n",
      " [ 0.15881005 -0.79209574]\n",
      " [ 1.22509363 -1.6222438 ]\n",
      " [ 0.1649179  -1.30260923]\n",
      " [ 0.73768265  0.39657156]\n",
      " [ 0.47628719 -0.41732028]\n",
      " [ 1.2341781  -0.93332573]\n",
      " [ 0.6328582  -0.41638772]\n",
      " [ 0.70266118 -0.06341182]\n",
      " [ 0.87427365  0.25079339]\n",
      " [ 1.25650912 -0.07725602]\n",
      " [ 1.35840512  0.33131168]\n",
      " [ 0.66480037 -0.22592785]\n",
      " [-0.04025861 -1.05871855]\n",
      " [ 0.13079518 -1.56227183]\n",
      " [ 0.02345269 -1.57247559]\n",
      " [ 0.24153827 -0.77725638]\n",
      " [ 1.06109461 -0.63384324]\n",
      " [ 0.22397877 -0.28777351]\n",
      " [ 0.42913912  0.84558224]\n",
      " [ 1.04872805  0.5220518 ]\n",
      " [ 1.04453138 -1.38298872]\n",
      " [ 0.06958832 -0.21950333]\n",
      " [ 0.28347724 -1.32932464]\n",
      " [ 0.27907778 -1.12002852]\n",
      " [ 0.62456979  0.02492303]\n",
      " [ 0.33653037 -0.98840402]\n",
      " [-0.36218338 -2.01923787]\n",
      " [ 0.28858624 -0.85573032]\n",
      " [ 0.09136066 -0.18119213]\n",
      " [ 0.22771687 -0.38492008]\n",
      " [ 0.57638829 -0.1548736 ]\n",
      " [-0.44766702 -1.54379203]\n",
      " [ 0.25673059 -0.5988518 ]\n",
      " [ 1.84456887  0.87042131]\n",
      " [ 1.15788161 -0.69886986]\n",
      " [ 2.20526679  0.56201048]\n",
      " [ 1.44015066 -0.04698759]\n",
      " [ 1.86781222  0.29504482]\n",
      " [ 2.75187334  0.8004092 ]\n",
      " [ 0.36701769 -1.56150289]\n",
      " [ 2.30243944  0.42006558]\n",
      " [ 2.00668647 -0.71143865]\n",
      " [ 2.25977735  1.92101038]\n",
      " [ 1.36417549  0.69275645]\n",
      " [ 1.60267867 -0.42170045]\n",
      " [ 1.8839007   0.41924965]\n",
      " [ 1.2601151  -1.16226042]\n",
      " [ 1.4676452  -0.44227159]\n",
      " [ 1.59007732  0.67624481]\n",
      " [ 1.47143146  0.25562182]\n",
      " [ 2.42632899  2.55666125]\n",
      " [ 3.31069558  0.01778095]\n",
      " [ 1.26376667 -1.70674538]\n",
      " [ 2.0377163   0.91046741]\n",
      " [ 0.97798073 -0.57176432]\n",
      " [ 2.89765149  0.41364106]\n",
      " [ 1.33323218 -0.48181122]\n",
      " [ 1.7007339   1.01392187]\n",
      " [ 1.95432671  1.0077776 ]\n",
      " [ 1.17510363 -0.31639447]\n",
      " [ 1.02095055  0.06434603]\n",
      " [ 1.78834992 -0.18736121]\n",
      " [ 1.86364755  0.56229073]\n",
      " [ 2.43595373  0.25928443]\n",
      " [ 2.30492772  2.62632347]\n",
      " [ 1.86270322 -0.17854949]\n",
      " [ 1.11414774 -0.29292262]\n",
      " [ 1.2024733  -0.81131527]\n",
      " [ 2.79877045  0.85680333]\n",
      " [ 1.57625591  1.06858111]\n",
      " [ 1.3462921   0.42243061]\n",
      " [ 0.92482492  0.0172231 ]\n",
      " [ 1.85204505  0.67612817]\n",
      " [ 2.01481043  0.61388564]\n",
      " [ 1.90178409  0.68957549]\n",
      " [ 1.15788161 -0.69886986]\n",
      " [ 2.04055823  0.8675206 ]\n",
      " [ 1.9981471   1.04916875]\n",
      " [ 1.87050329  0.38696608]\n",
      " [ 1.56458048 -0.89668681]\n",
      " [ 1.5211705   0.26906914]\n",
      " [ 1.37278779  1.01125442]\n",
      " [ 0.96065603 -0.02433167]]\n"
     ]
    },
    {
     "data": {
      "image/png": "[encoded data removed]",
      "text/plain": [
       "<Figure size 800x600 with 2 Axes>"
      ]
     },
     "metadata": {},
     "output_type": "display_data"
    }
   ],
   "source": [
    "# 导入必要的库\n",
    "import numpy as np\n",
    "import matplotlib.pyplot as plt\n",
    "from sklearn.datasets import load_iris\n",
    "from sklearn.decomposition import PCA\n",
    "from sklearn.preprocessing import StandardScaler\n",
    "\n",
    "# 加载数据集\n",
    "iris = load_iris()\n",
    "X = iris.data\n",
    "y = iris.target\n",
    "\n",
    "# 数据标准化\n",
    "scaler = StandardScaler()\n",
    "X_scaled = scaler.fit_transform(X)\n",
    "\n",
    "# 创建PCA对象，指定降维后的维度为2\n",
    "pca = PCA(n_components=2)\n",
    "\n",
    "# 对数据集进行PCA分析\n",
    "X_pca = pca.fit_transform(X_scaled)\n",
    "\n",
    "# 输出降维后的数据\n",
    "print(\"降维后的数据:\")\n",
    "print(X_pca)\n",
    "\n",
    "# 可视化结果\n",
    "plt.figure(figsize=(8, 6))\n",
    "plt.scatter(X_pca[:, 0], X_pca[:, 1], c=y, cmap='viridis', marker='o', edgecolor='k')\n",
    "plt.xlabel('Principal Component 1')\n",
    "plt.ylabel('Principal Component 2')\n",
    "plt.title('PCA Visualization')\n",
    "plt.colorbar(label='Class')\n",
    "plt.show()"
   ]
  },
  {
   "cell_type": "markdown",
   "metadata": {},
   "source": [
    "#### 8.2 因子分析"
   ]
  },
  {
   "cell_type": "code",
   "execution_count": 32,
   "metadata": {},
   "outputs": [
    {
     "name": "stdout",
     "output_type": "stream",
     "text": [
      "公因子方差:\n",
      " [0.81249138 0.99520493 1.01060002 0.90338341]\n",
      "\n",
      "成分矩阵:\n",
      " [[ 0.90120548  0.01789008]\n",
      " [-0.15041281  0.98619517]\n",
      " [ 0.96415345 -0.28461929]\n",
      " [ 0.92140124 -0.23324486]]\n",
      "\n",
      "解释的总方差（即贡献率）:\n",
      " (array([2.61336746, 1.10831228]), array([0.65334187, 0.27707807]), array([0.65334187, 0.93041994]))\n",
      "\n",
      "因子得分:\n",
      "     Factor1   Factor2\n",
      "0 -1.157234  0.851609\n",
      "1 -1.583209 -0.384376\n",
      "2 -1.434077  0.110196\n",
      "3 -1.302248 -0.088663\n",
      "4 -1.032635  1.109801\n"
     ]
    }
   ],
   "source": [
    "import pandas as pd\n",
    "from sklearn import datasets\n",
    "from factor_analyzer import FactorAnalyzer\n",
    "from sklearn.preprocessing import StandardScaler\n",
    "\n",
    "# 加载鸢尾花数据集\n",
    "iris = datasets.load_iris()\n",
    "df = pd.DataFrame(data=iris.data, columns=iris.feature_names)\n",
    "\n",
    "# 数据标准化\n",
    "scaler = StandardScaler()\n",
    "scaled_data = scaler.fit_transform(df)\n",
    "df_scaled = pd.DataFrame(scaled_data, columns=iris.feature_names)\n",
    "\n",
    "# 初始化因子分析对象，这里我们假设需要提取2个因子\n",
    "fa = FactorAnalyzer(n_factors=2, rotation='varimax')\n",
    "\n",
    "# 拟合因子分析模型\n",
    "fa.fit(df_scaled)\n",
    "\n",
    "# 查看公因子方差，即每个变量的方差被因子解释的比例\n",
    "communalities = fa.get_communalities()\n",
    "print(\"公因子方差:\\n\", communalities)\n",
    "\n",
    "# 查看成分矩阵，即因子载荷矩阵\n",
    "loadings = fa.loadings_\n",
    "print(\"\\n成分矩阵:\\n\", loadings)\n",
    "\n",
    "# 查看解释的总方差\n",
    "total_variance = fa.get_factor_variance()\n",
    "print(\"\\n解释的总方差（即贡献率）:\\n\", total_variance)\n",
    "\n",
    "# 计算因子得分\n",
    "factor_scores = fa.transform(df_scaled)\n",
    "factor_scores_df = pd.DataFrame(factor_scores, columns=[f'Factor{i+1}' for i in range(fa.n_factors)])\n",
    "print(\"\\n因子得分:\\n\", factor_scores_df.head())"
   ]
  },
  {
   "cell_type": "code",
   "execution_count": null,
   "metadata": {},
   "outputs": [],
   "source": []
  }
 ],
 "metadata": {
  "kernelspec": {
   "display_name": "myenv",
   "language": "python",
   "name": "python3"
  },
  "language_info": {
   "codemirror_mode": {
    "name": "ipython",
    "version": 3
   },
   "file_extension": ".py",
   "mimetype": "text/x-python",
   "name": "python",
   "nbconvert_exporter": "python",
   "pygments_lexer": "ipython3",
   "version": "3.11.10"
  }
 },
 "nbformat": 4,
 "nbformat_minor": 2
}
